{
 "cells": [
  {
   "cell_type": "markdown",
   "metadata": {},
   "source": [
    "# Prime Numbers with Python\n",
    "\n",
    "### Sidclay da Silva\n",
    "\n",
    "### April 2022\n",
    "---\n",
    "### Introduction\n",
    "This notebook contains a *Python* code to generate a list of prime numbers with the mathematical background used to improve performance.\n",
    "\n",
    "---"
   ]
  },
  {
   "cell_type": "markdown",
   "metadata": {},
   "source": [
    "### Definition\n",
    "1. An integer $p \\in \\mathbb{Z}$, $p \\neq 1$, is a prime number in $\\mathbb{Z}$ when it can only be divided by $1$ or $p$.\n",
    "1. The set of prime numbers is infinite - Euclid's theorem, a fundamental statement in number theory.\n",
    "1. If $c \\in \\mathbb{Z}$, $c \\neq 1$, is not a prime number it is called composite number, and it can be written as a product of prime numbers, $c= p\\,k$.\n",
    "1. If $c=p\\,k$, then $c\\div p=k$ and $c\\div k=p$.\n",
    "\n",
    "The opposite number of a prime is also a prime number, but we will stick to the positive ones without any loss to this work.\n",
    "\n",
    "---"
   ]
  },
  {
   "cell_type": "markdown",
   "metadata": {},
   "source": [
    "### Development\n",
    "\n",
    "From the definition (1) above, checking if an integer $n$ is a prime number is quite straight, we only need to check if it is a multiple of any integer $i \\in \\big[2,n\\big)$, if it isn't, then $n$ is a prime number. \n",
    "\n",
    "A integer $n$ is multiple of $i$ when the operation $n \\div i$ results in a integer, or in other words the operation leaves remainder zero. Let's define a function to check it for the given $n$."
   ]
  },
  {
   "cell_type": "code",
   "execution_count": 1,
   "metadata": {},
   "outputs": [],
   "source": [
    "def is_prime(n=2):\n",
    "    \"\"\"Returns True if 'n' is a prime number\"\"\"\n",
    "    n = int(abs(n))\n",
    "    r = range(2,n)\n",
    "    p = True\n",
    "    for i in r:\n",
    "        if n % i == 0: \n",
    "            p = False\n",
    "            break\n",
    "    \n",
    "    return p"
   ]
  },
  {
   "cell_type": "markdown",
   "metadata": {},
   "source": [
    "Now a quick test using an short interval containing some well known primes - $\\big[2,11\\big]$."
   ]
  },
  {
   "cell_type": "code",
   "execution_count": 2,
   "metadata": {},
   "outputs": [
    {
     "data": {
      "text/plain": [
       "[(2, True),\n",
       " (3, True),\n",
       " (4, False),\n",
       " (5, True),\n",
       " (6, False),\n",
       " (7, True),\n",
       " (8, False),\n",
       " (9, False),\n",
       " (10, False),\n",
       " (11, True)]"
      ]
     },
     "execution_count": 2,
     "metadata": {},
     "output_type": "execute_result"
    }
   ],
   "source": [
    "[(i,is_prime(i)) for i in range(2,12)]"
   ]
  },
  {
   "cell_type": "markdown",
   "metadata": {},
   "source": [
    "For checking results of higher magnitude, the *Wikipedia* page https://en.wikipedia.org/wiki/List_of_prime_numbers can be used, they have the list of the first one thousand primes.\n",
    "\n",
    "Next we test it with a larger list, up to $100000$, the interval $\\big[2,1e5\\big]$, and check how long does it take to run. The resulting list is going to be huge, then we count the primes to keep it simple.\n",
    "\n",
    "The execution time depends on the equipment being used, here it is used to compare perfomance between versions."
   ]
  },
  {
   "cell_type": "code",
   "execution_count": 3,
   "metadata": {},
   "outputs": [
    {
     "name": "stdout",
     "output_type": "stream",
     "text": [
      "Count: 9592 \n",
      "Execution: 61.756 s\n"
     ]
    }
   ],
   "source": [
    "import time\n",
    "\n",
    "t0 = time.time()\n",
    "\n",
    "plist = [is_prime(i) for i in list(range(2,int(1e5+1)))]\n",
    "\n",
    "t1 = time.time()\n",
    "print('Count:', sum(plist), '\\nExecution:', round(t1-t0,3),'s')"
   ]
  },
  {
   "cell_type": "markdown",
   "metadata": {},
   "source": [
    "The function to check if a number is prime works, but for checking a huge list of numbers its performance does not impress anyone.\n",
    "\n",
    "Let's try a different approach, instead of testing unique integers, for a give $n$, our function should return the list of primes in the the interval $\\big[2,n\\big]$.\n",
    "\n",
    "According to definition (1), prime numbers are greater than one, if $n<2$ we simply return an empty list.\n",
    "\n",
    "The definition (3) can help us speed things up, let's dive into it.\n",
    "\n",
    "If $c_1=p\\, k_1$ and $c_2=c_1\\, x$,\n",
    "\n",
    "then $c_2=(p\\, k_1)x = p\\, k_2$.\n",
    "\n",
    "Meaning that we only need to test if the elements in the list $\\big[2,n\\big]$ are multiples of prime numbers, and not, as did our initial function, testing them for each integer less than or equal to $n$, e.g. to check if $11$ is prime, we test if it is multiple of $\\big\\{2,3,5,7\\big\\}$ only.\n",
    "\n",
    "The new function builds up a list of primes, which is initiated as \\[2\\], then it tests if $3$ is multiple of any element in the list, at this point only the $2$, if it isn't, then $3$ is added to the primes list \\[2,3\\]. Next it tests $4$ in the same way, and so on."
   ]
  },
  {
   "cell_type": "code",
   "execution_count": 4,
   "metadata": {},
   "outputs": [],
   "source": [
    "def prime_list(n=2):\n",
    "    \"Returns the list of prime numbers 'p <= n'\"\n",
    "    if n < 2: return []\n",
    "\n",
    "    primes = [2]\n",
    "    i = 3\n",
    "    \n",
    "    while i <= n:\n",
    "        p = True\n",
    "        for prime in primes:\n",
    "            # here we test only with primes\n",
    "            if i % prime == 0:\n",
    "                p = False\n",
    "                break\n",
    "\n",
    "        if p == True: primes.append(i)\n",
    "\n",
    "        i += 1\n",
    "\n",
    "    return primes"
   ]
  },
  {
   "cell_type": "code",
   "execution_count": 5,
   "metadata": {},
   "outputs": [
    {
     "name": "stdout",
     "output_type": "stream",
     "text": [
      "Count: 9592 \n",
      "Last: 99991 \n",
      "Execution: 5.493 s\n"
     ]
    }
   ],
   "source": [
    "t0 = time.time()\n",
    "\n",
    "plist = prime_list(int(1e5))\n",
    "\n",
    "t1 = time.time()\n",
    "print('Count:', len(plist), '\\nLast:', plist[-1], '\\nExecution:', round(t1-t0,3),'s')"
   ]
  },
  {
   "cell_type": "markdown",
   "metadata": {},
   "source": [
    "Much better than previous performance, but we can improve it more.\n",
    "\n",
    "First, using definition (3) again. We already know that $2$ is prime and all even numbers can be written as $n=2k$, that means they are all composite numbers multiples of $2$. We will just skip them during the iteration, this will remove half of the elements in the list.\n",
    "\n",
    "Second we use definition (4), to recall it, if $c=p\\,k$, then $c\\div p=k$ and $c\\div k=p$.\n",
    "\n",
    "An example, the divisors of $16$ are $\\big\\{1,2,4,8,16\\big\\}$, when $16$ is divided by any of its divisors the result is also one of of its divisors.\n",
    "- $16\\div 1 = 16$\n",
    "- $16\\div 2 = 8$\n",
    "- $16\\div 4 = 4$\n",
    "- $16\\div 8 = 2$\n",
    "- $16\\div 16 = 1$\n",
    "\n",
    "Nothing new here, but according to the defnition (4) we only would need to divide $16$ by $\\big\\{1,2,4\\big\\}$ to find all of its divisors, this is interesting, right?\n",
    "\n",
    "Let's see $24$ and its divisors $\\big\\{1,2,3,4,6,8,12,24\\big\\}$, this time we would divide $24$ by $\\big\\{1,2,3,4\\big\\}$ to find all of its divisors. If you think about a number like $1e5$, then the definition (4) turns out to be a huge time saving resource.\n",
    "\n",
    "What is even more interesting is that $\\sqrt{16}=4$ and $\\sqrt{24}\\cong 4.90$. It is not a coincidence that for $16$ and $24$ we could divide up to $4$. One way to illustrate it is using geometry. For example, which are the possible different rectangles with area $16\\,\\textrm{mm}^2$, considering only integers? The answer, $1\\times 16$, $2\\times 8$ and $4\\times 4$, the last one is the square of side $\\sqrt{16}=4$, after that we start to repeat the rectangles.\n",
    "\n",
    "Back to our prime numbers, to check if an integer $n$ is prime, it is enough to test if it is multiple of the prime numbers $p\\leq \\sqrt{n}$, this is a time saving resource as well.\n",
    "\n",
    "Great, let's enhance our function with these two additional resources and see if it really gets faster."
   ]
  },
  {
   "cell_type": "code",
   "execution_count": 6,
   "metadata": {},
   "outputs": [],
   "source": [
    "def prime_list(n=2):\n",
    "    \"Returns the list of prime numbers 'p <= n'\"\n",
    "    if n < 2: return []\n",
    "\n",
    "    primes = [2]\n",
    "    i = 3\n",
    "    \n",
    "    while i <= n:\n",
    "        p = True\n",
    "        for prime in primes:\n",
    "            # here we stop testing using the square root\n",
    "            if prime > i**.5: break\n",
    "\n",
    "            if i % prime == 0:\n",
    "                p = False\n",
    "                break\n",
    "\n",
    "        if p == True: primes.append(i)\n",
    "\n",
    "        # here we skip even numbers\n",
    "        i += 2\n",
    "\n",
    "    return primes"
   ]
  },
  {
   "cell_type": "code",
   "execution_count": 7,
   "metadata": {},
   "outputs": [
    {
     "name": "stdout",
     "output_type": "stream",
     "text": [
      "Count: 9592 \n",
      "Last: 99991 \n",
      "Execution: 0.227 s\n"
     ]
    }
   ],
   "source": [
    "t0 = time.time()\n",
    "\n",
    "plist = prime_list(int(1e5))\n",
    "\n",
    "t1 = time.time()\n",
    "print('Count:', len(plist), '\\nLast:', plist[-1], '\\nExecution:', round(t1-t0,3),'s')"
   ]
  },
  {
   "cell_type": "markdown",
   "metadata": {},
   "source": [
    "This was a good impromevent in performance, right?\n",
    "\n",
    "So far we have built a list of prime numbers in the interval $\\big[2,n\\big]$, but you could change it to find the list of the first $n$ primes, only changing the *while* test to check the length of the *primes* list - \"*while len(primes) <= n:*\".\n",
    "\n",
    "This first approach was done by aggregation, building up the primes list, and with some mathematical resources we could improve performance. Next we try a different approach, by exclusion let's say, we start with the whole list of integers, then we remove all the composite numbers from it\n",
    "\n",
    "How does that work?\n",
    "\n",
    "We initiate the list using the interval $\\big[2,n\\big]$ and set the primes list to $[]$. We start with $2$, removing all its multiples ($n=2k$) from the original list and then we include the $2$ itself into the primes list.\n",
    "\n",
    "After that we take the new first element of the list, which should be $3$, and do the same, remove all its multiples ($n=3k$) from the list, include it to the primes list, and take the new first element, $5$, because $4$ was removed as multiple of $2$.\n",
    "\n",
    "As we previously saw, it is enough to do it when $n\\leq \\sqrt{n}$, after that should not remain any composite number to be removed. This is great, don't you think?"
   ]
  },
  {
   "cell_type": "markdown",
   "metadata": {},
   "source": [
    "Let's see an example with the interval $\\big[2,30\\big]$, keeping in mind that $\\sqrt{30}=5,48$\n",
    "\n",
    "| | | | | | | | | | | | | | | | | | | | | | | | | | | | | | |\n",
    "|:-:|:-:|:-:|:-:|:-:|:-:|:-:|:-:|:-:|:-:|:-:|:-:|:-:|:-:|:-:|:-:|:-:|:-:|:-:|:-:|:-:|:-:|:-:|:-:|:-:|:-:|:-:|:-:|:-:|:-:|\n",
    "|(list)|2|3|4|5|6|7|8|9|10|11|12|13|14|15|16|17|18|19|20|21|22|23|24|25|26|27|28|29|30|\n",
    "\n",
    "First we remove the multiples of $2$ and include it in our primes list.\n",
    "\n",
    "| | | | | | | | | | | | | | | |\n",
    "|:-:|:-:|:-:|:-:|:-:|:-:|:-:|:-:|:-:|:-:|:-:|:-:|:-:|:-:|:-:|\n",
    "|(list)|3|5|7|9|11|13|15|17|19|21|23|25|27|29|\n",
    "\n",
    "| | |\n",
    "|:-:|:-:|\n",
    "|(primes)|2|\n",
    "\n",
    "Now we take $3$, remove its multiples and update the primes list with it.\n",
    "\n",
    "| | | | | | | | | | |\n",
    "|:-:|:-:|:-:|:-:|:-:|:-:|:-:|:-:|:-:|:-:|\n",
    "|(list)|5|7|11|13|17|19|23|25|29|\n",
    "\n",
    "| | | |\n",
    "|:-:|:-:|:-:|\n",
    "|(primes)|2|3|\n",
    "\n",
    "The same with $5$.\n",
    "\n",
    "| | | | | | | | |\n",
    "|:-:|:-:|:-:|:-:|:-:|:-:|:-:|:-:|\n",
    "|(list)|7|11|13|17|19|23|29|\n",
    "\n",
    "| | | | |\n",
    "|:-:|:-:|:-:|:-:|\n",
    "|(primes)|2|3|5|\n",
    "\n",
    "At this point all the elements left in the list are prime numbers, the composite ones are gone. To finish the job, we only need to put all of them in one list.\n",
    "\n",
    "| | | | | | | | | | |\n",
    "|:-:|:-:|:-:|:-:|:-:|:-:|:-:|:-:|:-:|:-:|\n",
    "|2|3|5|7|11|13|17|19|23|29|\n",
    "\n",
    "In our function the list is already initiated without even numbers greater than $2$."
   ]
  },
  {
   "cell_type": "code",
   "execution_count": 8,
   "metadata": {},
   "outputs": [],
   "source": [
    "def prime_list(n=2):\n",
    "    \"Returns the list of prime numbers 'p <= n'\"\n",
    "    if n < 2: return []\n",
    "    \n",
    "    nlist = [2] + list(range(3, n+1, 2))\n",
    "    limit = int(n**.5)\n",
    "    primes = []\n",
    "    prime = nlist[0]\n",
    "    \n",
    "    while prime <= limit:\n",
    "        # the mask contains True for multiples of 'prime'\n",
    "        mask = [n % prime == 0 for n in nlist]\n",
    "\n",
    "        # rebuild the list with elements where mask is not True\n",
    "        nlist = [n for n,m in zip(nlist,mask) if m != True]\n",
    "\n",
    "        # include 'prime' to primes list\n",
    "        primes.append(prime)\n",
    "\n",
    "        # take the new first element\n",
    "        prime = nlist[0]\n",
    "\n",
    "    # merge the primes list with elements left from original list\n",
    "    primes.extend(nlist)\n",
    "    return primes"
   ]
  },
  {
   "cell_type": "code",
   "execution_count": 9,
   "metadata": {},
   "outputs": [
    {
     "name": "stdout",
     "output_type": "stream",
     "text": [
      "Count: 9592 \n",
      "Last: 99991 \n",
      "Execution: 0.247 s\n"
     ]
    }
   ],
   "source": [
    "t0 = time.time()\n",
    "\n",
    "plist = prime_list(int(1e5))\n",
    "\n",
    "t1 = time.time()\n",
    "print('Count:', len(plist), '\\nLast:', plist[-1], '\\nExecution:', round(t1-t0,3),'s')"
   ]
  },
  {
   "cell_type": "markdown",
   "metadata": {},
   "source": [
    "Actually, it was quite the same performance as the previous one, but we could try it using *Numpy* and see how it performs.\n",
    "\n",
    "*Numpy* uses arrays instead of lists to manipulate data, it holds powerfull mathematical resources, it requires less memory and its processing is faster than using lists, these differences make enormous advantage when dealing with large amount of data.\n",
    "\n",
    "*Numpy* also has easier sintaxe, e.g. the mask we made for the list previously is included directly as array selection criteria in a single line of code.\n",
    "\n",
    "Let's change the function and see how it goes, the logic behind the code is the same."
   ]
  },
  {
   "cell_type": "code",
   "execution_count": 10,
   "metadata": {},
   "outputs": [],
   "source": [
    "import numpy as np\n",
    "\n",
    "def prime_list(n=2):\n",
    "    \"Returns the list of prime numbers 'p <= n'\"\n",
    "    if n < 2: return []\n",
    "    \n",
    "    narray = np.append([2], np.arange(start=3, stop=n+1, step=2))\n",
    "    limit = int(np.sqrt(n))\n",
    "    primes = []\n",
    "    prime = narray[0]\n",
    "    \n",
    "    while prime <= limit:\n",
    "        primes.append(prime)\n",
    "        # only one line of code to rebuild the list\n",
    "        narray = narray[narray % prime !=0]\n",
    "        prime = narray[0]\n",
    "\n",
    "    return list(np.append(primes, narray))"
   ]
  },
  {
   "cell_type": "code",
   "execution_count": 11,
   "metadata": {},
   "outputs": [
    {
     "name": "stdout",
     "output_type": "stream",
     "text": [
      "Count: 9592 \n",
      "Last: 99991 \n",
      "Execution: 0.034 s\n"
     ]
    }
   ],
   "source": [
    "t0 = time.time()\n",
    "\n",
    "plist = prime_list(int(1e5))\n",
    "\n",
    "t1 = time.time()\n",
    "print('Count:', len(plist), '\\nLast:', plist[-1], '\\nExecution:', round(t1-t0,3),'s')"
   ]
  },
  {
   "cell_type": "markdown",
   "metadata": {},
   "source": [
    "This was really good improvement!\n",
    "\n",
    "You could try *Numpy* in the first version, the aggregation approach, and see what happens.\n",
    "\n",
    "---"
   ]
  },
  {
   "cell_type": "markdown",
   "metadata": {},
   "source": [
    "### Conclusion\n",
    "\n",
    "In this notebook we have developed a function using *Python* to generate prime numbers. Its performance could be improved based on mathematical background, which was explained along with the code."
   ]
  }
 ],
 "metadata": {
  "kernelspec": {
   "display_name": "Python 3",
   "language": "python",
   "name": "python3"
  },
  "language_info": {
   "codemirror_mode": {
    "name": "ipython",
    "version": 3
   },
   "file_extension": ".py",
   "mimetype": "text/x-python",
   "name": "python",
   "nbconvert_exporter": "python",
   "pygments_lexer": "ipython3",
   "version": "3.6.8"
  }
 },
 "nbformat": 4,
 "nbformat_minor": 4
}
